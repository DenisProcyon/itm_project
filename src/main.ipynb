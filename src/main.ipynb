{
 "cells": [
  {
   "cell_type": "code",
   "execution_count": 53,
   "metadata": {},
   "outputs": [],
   "source": [
    "import pandas as pd\n",
    "from googletrans import Translator\n",
    "\n",
    "from mongo_orm import MongoORM\n",
    "\n",
    "import os\n",
    "from dotenv import load_dotenv"
   ]
  },
  {
   "cell_type": "code",
   "execution_count": 57,
   "metadata": {},
   "outputs": [],
   "source": [
    "def translate(data: str | list[str], src: str, dest: str) -> str | dict[str: str]:\n",
    "    \"\"\"\n",
    "    Function translates text from src lang to dest lang\n",
    "\n",
    "    :param data: either can be string or list of string\n",
    "\n",
    "    :return: if string is passed, returns transalted string, if list of sreing\n",
    "    is passed returns list of dict where orig is original text and trans is translated\n",
    "    \"\"\"\n",
    "    translator = Translator()\n",
    "\n",
    "    if isinstance(data, str):\n",
    "        try:\n",
    "            result = translator.translate(data, src=src, dest=dest)\n",
    "            \n",
    "            if result.text is not None:\n",
    "                return result.text\n",
    "            \n",
    "            raise ConnectionError(f'Could not translate {data[:5]}...')\n",
    "        except Exception as e:\n",
    "            raise ConnectionError(f'Could not translate {data[:5]}...: {e}')\n",
    "    else:\n",
    "        trans = []\n",
    "\n",
    "        for text in data:\n",
    "            try:\n",
    "                result = translator.translate(text, src=\"ru\", dest=\"en\")\n",
    "            except Exception as e:\n",
    "                raise ConnectionError(f'Could not translate {text[:5]}...: {e}')\n",
    "\n",
    "            trans.append(\n",
    "                {\n",
    "                    \"original\": text,\n",
    "                    \"trans\": result.text\n",
    "                }\n",
    "            )"
   ]
  },
  {
   "cell_type": "code",
   "execution_count": 43,
   "metadata": {},
   "outputs": [],
   "source": [
    "MONGO_IP = os.getenv(\"MONGO_IP\")\n",
    "MONGO_PORT = os.getenv(\"MONGO_PORT\")\n",
    "MONGO_DB = os.getenv(\"MONGO_DB\")\n",
    "MONGO_USERNAME = os.getenv(\"MONGO_USERNAME\")\n",
    "MONGO_PASSWORD = os.getenv(\"MONGO_PASSWORD\")"
   ]
  },
  {
   "cell_type": "code",
   "execution_count": 68,
   "metadata": {},
   "outputs": [
    {
     "name": "stderr",
     "output_type": "stream",
     "text": [
      "2025-03-07 15:54:39,256 INFO Coonnected to itm database on 206.81.16.39\n"
     ]
    }
   ],
   "source": [
    "mongo_client = MongoORM(\n",
    "    db=MONGO_DB,\n",
    "    user=MONGO_USERNAME,\n",
    "    password=MONGO_PASSWORD,\n",
    "    ip=MONGO_IP,\n",
    "    port=MONGO_PORT\n",
    ")"
   ]
  },
  {
   "cell_type": "code",
   "execution_count": 71,
   "metadata": {},
   "outputs": [
    {
     "name": "stdout",
     "output_type": "stream",
     "text": [
      "All channels: ['RVvoenkor', 'readovkanews']\n"
     ]
    }
   ],
   "source": [
    "channels = mongo_client.get_all_collections()\n",
    "\n",
    "print(f'All channels: {channels}')"
   ]
  },
  {
   "cell_type": "code",
   "execution_count": 46,
   "metadata": {},
   "outputs": [],
   "source": [
    "CHANNEL_NAME = \"readovkanews\""
   ]
  },
  {
   "cell_type": "code",
   "execution_count": 47,
   "metadata": {},
   "outputs": [],
   "source": [
    "posts = mongo_client.get_collection_entries(collection=\"readovkanews\")"
   ]
  },
  {
   "cell_type": "code",
   "execution_count": 48,
   "metadata": {},
   "outputs": [],
   "source": [
    "channel_posts_comments = {}\n",
    "for post in posts:\n",
    "    channel_posts_comments[post[\"_id\"]] = {\n",
    "        \"text\": post[\"text\"],\n",
    "        \"comments\": pd.DataFrame(post[\"comments\"])\n",
    "    }"
   ]
  },
  {
   "cell_type": "code",
   "execution_count": 49,
   "metadata": {},
   "outputs": [
    {
     "name": "stdout",
     "output_type": "stream",
     "text": [
      "For post with id: 93652 and text: Британский... 197 comments saved\n",
      "For post with id: 93651 and text: Украинские... 120 comments saved\n",
      "For post with id: 93649 and text: Зеленский ... 145 comments saved\n",
      "For post with id: 93647 and text: «Донбасс с... 226 comments saved\n",
      "For post with id: 93645 and text: Украинских... 91 comments saved\n",
      "For post with id: 93643 and text: Вернувшимс... 86 comments saved\n",
      "For post with id: 93642 and text: ❗️В Россию... 135 comments saved\n",
      "For post with id: 93634 and text: На украинс... 250 comments saved\n",
      "For post with id: 93626 and text: Командован... 149 comments saved\n",
      "For post with id: 93623 and text: Поножовщин... 773 comments saved\n",
      "For post with id: 93618 and text: «Министры ... 334 comments saved\n",
      "For post with id: 93617 and text: Зеленский ... 192 comments saved\n",
      "For post with id: 93616 and text: Европа буд... 490 comments saved\n",
      "For post with id: 93610 and text: Президент ... 103 comments saved\n",
      "For post with id: 93600 and text: Кучка проп... 399 comments saved\n",
      "For post with id: 93598 and text: Событием н... 382 comments saved\n",
      "For post with id: 93592 and text: Русский «И... 318 comments saved\n",
      "For post with id: 93584 and text: Беглые гор... 487 comments saved\n",
      "For post with id: 93583 and text: «Лови Кали... 84 comments saved\n",
      "For post with id: 93581 and text: 25-я годов... 439 comments saved\n",
      "For post with id: 93580 and text: Латвия, Ли... 367 comments saved\n",
      "For post with id: 93576 and text: ❗️Киев в п... 86 comments saved\n",
      "For post with id: 93573 and text: Пропаганди... 58 comments saved\n",
      "For post with id: 93569 and text: «Мы поддер... 606 comments saved\n",
      "For post with id: 93568 and text: «Зеленский... 454 comments saved\n",
      "For post with id: 93566 and text: Зеленский ... 372 comments saved\n",
      "For post with id: 93563 and text: Вместо изв... 124 comments saved\n"
     ]
    }
   ],
   "source": [
    "for post, data in channel_posts_comments.items():\n",
    "    print(f'For post with id: {post} and text: {data[\"text\"][:10]}... {len(data[\"comments\"])} comments saved')"
   ]
  },
  {
   "cell_type": "code",
   "execution_count": 67,
   "metadata": {},
   "outputs": [
    {
     "name": "stdout",
     "output_type": "stream",
     "text": [
      "Original text: Кишка тонка! Они слишком трусливы, чтобы встревать в прямой конфликт с РФ\n",
      "Translation: The gut is thin!They are too cowardly to get into a direct conflict with the Russian Federation\n"
     ]
    }
   ],
   "source": [
    "data = channel_posts_comments[93652][\"comments\"].iloc[10]\n",
    "\n",
    "print(f'Original text: {data[\"text\"]}')\n",
    "print(f'Translation: {translate(data[\"text\"], src=\"ru\", dest=\"en\")}')"
   ]
  },
  {
   "cell_type": "code",
   "execution_count": 84,
   "metadata": {},
   "outputs": [
    {
     "data": {
      "text/html": [
       "<div>\n",
       "<style scoped>\n",
       "    .dataframe tbody tr th:only-of-type {\n",
       "        vertical-align: middle;\n",
       "    }\n",
       "\n",
       "    .dataframe tbody tr th {\n",
       "        vertical-align: top;\n",
       "    }\n",
       "\n",
       "    .dataframe thead th {\n",
       "        text-align: right;\n",
       "    }\n",
       "</style>\n",
       "<table border=\"1\" class=\"dataframe\">\n",
       "  <thead>\n",
       "    <tr style=\"text-align: right;\">\n",
       "      <th></th>\n",
       "      <th>id</th>\n",
       "      <th>text</th>\n",
       "      <th>author</th>\n",
       "      <th>posting_ts</th>\n",
       "      <th>post_id</th>\n",
       "    </tr>\n",
       "  </thead>\n",
       "  <tbody>\n",
       "    <tr>\n",
       "      <th>0</th>\n",
       "      <td>19814482</td>\n",
       "      <td>Интересует подлётная скорость \"Орешника\" к Лон...</td>\n",
       "      <td>5188742892</td>\n",
       "      <td>1.741124e+09</td>\n",
       "      <td>93652</td>\n",
       "    </tr>\n",
       "    <tr>\n",
       "      <th>1</th>\n",
       "      <td>19813741</td>\n",
       "      <td>Если МО РФ им это позволит то \"врагов народа\" ...</td>\n",
       "      <td>2115101064</td>\n",
       "      <td>1.741114e+09</td>\n",
       "      <td>93652</td>\n",
       "    </tr>\n",
       "    <tr>\n",
       "      <th>2</th>\n",
       "      <td>19811760</td>\n",
       "      <td>ну если бритиши хотят свою армию земле придать...</td>\n",
       "      <td>7606681005</td>\n",
       "      <td>1.741101e+09</td>\n",
       "      <td>93652</td>\n",
       "    </tr>\n",
       "    <tr>\n",
       "      <th>3</th>\n",
       "      <td>19811673</td>\n",
       "      <td>Убивать нужно всех! Всех нахуй к бандере, и хо...</td>\n",
       "      <td>1053428964</td>\n",
       "      <td>1.741099e+09</td>\n",
       "      <td>93652</td>\n",
       "    </tr>\n",
       "    <tr>\n",
       "      <th>4</th>\n",
       "      <td>19811154</td>\n",
       "      <td>вводите, но за этим очевидно пойдет 3я мировая...</td>\n",
       "      <td>6540396053</td>\n",
       "      <td>1.741091e+09</td>\n",
       "      <td>93652</td>\n",
       "    </tr>\n",
       "    <tr>\n",
       "      <th>...</th>\n",
       "      <td>...</td>\n",
       "      <td>...</td>\n",
       "      <td>...</td>\n",
       "      <td>...</td>\n",
       "      <td>...</td>\n",
       "    </tr>\n",
       "    <tr>\n",
       "      <th>192</th>\n",
       "      <td>19807729</td>\n",
       "      <td>Вот мы и движемся к развязке... Лозунги за мир...</td>\n",
       "      <td>729590455</td>\n",
       "      <td>1.741030e+09</td>\n",
       "      <td>93652</td>\n",
       "    </tr>\n",
       "    <tr>\n",
       "      <th>193</th>\n",
       "      <td>19807721</td>\n",
       "      <td>Европа превращается в военный блок,а это уже о...</td>\n",
       "      <td>6125797970</td>\n",
       "      <td>1.741030e+09</td>\n",
       "      <td>93652</td>\n",
       "    </tr>\n",
       "    <tr>\n",
       "      <th>194</th>\n",
       "      <td>19807719</td>\n",
       "      <td>мелкобриты пытаются развязать 3-ю мировую</td>\n",
       "      <td>5094298324</td>\n",
       "      <td>1.741030e+09</td>\n",
       "      <td>93652</td>\n",
       "    </tr>\n",
       "    <tr>\n",
       "      <th>195</th>\n",
       "      <td>19807709</td>\n",
       "      <td>Англичанка гадит</td>\n",
       "      <td>5717425094</td>\n",
       "      <td>1.741030e+09</td>\n",
       "      <td>93652</td>\n",
       "    </tr>\n",
       "    <tr>\n",
       "      <th>196</th>\n",
       "      <td>19807708</td>\n",
       "      <td>Мало ему прогретых в Одессе?</td>\n",
       "      <td>5273661831</td>\n",
       "      <td>1.741030e+09</td>\n",
       "      <td>93652</td>\n",
       "    </tr>\n",
       "  </tbody>\n",
       "</table>\n",
       "<p>197 rows × 5 columns</p>\n",
       "</div>"
      ],
      "text/plain": [
       "           id                                               text      author  \\\n",
       "0    19814482  Интересует подлётная скорость \"Орешника\" к Лон...  5188742892   \n",
       "1    19813741  Если МО РФ им это позволит то \"врагов народа\" ...  2115101064   \n",
       "2    19811760  ну если бритиши хотят свою армию земле придать...  7606681005   \n",
       "3    19811673  Убивать нужно всех! Всех нахуй к бандере, и хо...  1053428964   \n",
       "4    19811154  вводите, но за этим очевидно пойдет 3я мировая...  6540396053   \n",
       "..        ...                                                ...         ...   \n",
       "192  19807729  Вот мы и движемся к развязке... Лозунги за мир...   729590455   \n",
       "193  19807721  Европа превращается в военный блок,а это уже о...  6125797970   \n",
       "194  19807719          мелкобриты пытаются развязать 3-ю мировую  5094298324   \n",
       "195  19807709                                   Англичанка гадит  5717425094   \n",
       "196  19807708                       Мало ему прогретых в Одессе?  5273661831   \n",
       "\n",
       "       posting_ts  post_id  \n",
       "0    1.741124e+09    93652  \n",
       "1    1.741114e+09    93652  \n",
       "2    1.741101e+09    93652  \n",
       "3    1.741099e+09    93652  \n",
       "4    1.741091e+09    93652  \n",
       "..            ...      ...  \n",
       "192  1.741030e+09    93652  \n",
       "193  1.741030e+09    93652  \n",
       "194  1.741030e+09    93652  \n",
       "195  1.741030e+09    93652  \n",
       "196  1.741030e+09    93652  \n",
       "\n",
       "[197 rows x 5 columns]"
      ]
     },
     "execution_count": 84,
     "metadata": {},
     "output_type": "execute_result"
    }
   ],
   "source": [
    "channel_posts_comments[93652][\"comments\"]\n"
   ]
  },
  {
   "cell_type": "code",
   "execution_count": 78,
   "metadata": {},
   "outputs": [
    {
     "name": "stdout",
     "output_type": "stream",
     "text": [
      "Убивать нужно всех! Всех нахуй к бандере, и хохлов и наемников. Особенно хохолов!\n",
      "You need to kill everyone!Fuck everyone to Bandera, and crests and mercenaries.Especially Khokholov!\n"
     ]
    }
   ],
   "source": [
    "print(channel_posts_comments[93652][\"comments\"].iloc[3][\"text\"])\n",
    "print(translate(channel_posts_comments[93652][\"comments\"].iloc[3][\"text\"], src=\"ru\", dest=\"en\"))"
   ]
  }
 ],
 "metadata": {
  "kernelspec": {
   "display_name": "Python 3",
   "language": "python",
   "name": "python3"
  },
  "language_info": {
   "codemirror_mode": {
    "name": "ipython",
    "version": 3
   },
   "file_extension": ".py",
   "mimetype": "text/x-python",
   "name": "python",
   "nbconvert_exporter": "python",
   "pygments_lexer": "ipython3",
   "version": "3.12.2"
  }
 },
 "nbformat": 4,
 "nbformat_minor": 2
}
